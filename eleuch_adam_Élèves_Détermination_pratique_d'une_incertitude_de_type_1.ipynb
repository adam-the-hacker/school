{
  "nbformat": 4,
  "nbformat_minor": 0,
  "metadata": {
    "colab": {
      "provenance": [],
      "collapsed_sections": [],
      "include_colab_link": true
    },
    "kernelspec": {
      "name": "python3",
      "display_name": "Python 3"
    },
    "language_info": {
      "name": "python"
    }
  },
  "cells": [
    {
      "cell_type": "markdown",
      "metadata": {
        "id": "view-in-github",
        "colab_type": "text"
      },
      "source": [
        "<a href=\"https://colab.research.google.com/github/adam-the-hacker/school/blob/main/eleuch_adam_%C3%89l%C3%A8ves_D%C3%A9termination_pratique_d'une_incertitude_de_type_1.ipynb\" target=\"_parent\"><img src=\"https://colab.research.google.com/assets/colab-badge.svg\" alt=\"Open In Colab\"/></a>"
      ]
    },
    {
      "cell_type": "code",
      "execution_count": null,
      "metadata": {
        "id": "beHngyFnim-v"
      },
      "outputs": [],
      "source": [
        "from math import sqrt"
      ]
    },
    {
      "cell_type": "markdown",
      "source": [
        "# Détermination pratique d'une incertitude lorsqu'on peut effectuer une série de mesures\n",
        "\n",
        "Lorsqu'un même opérateur répète plusieurs fois la mesure de la même\n",
        "grandeur dans les mêmes conditions expérimentales, il trouve généralement des\n",
        "résultats différents. Il en est de même lorsque des opérateurs différents\n",
        "réalisent simultanément le mesurage de la même grandeur avec du matériel\n",
        "similaire.\n",
        "\n",
        "> Lorsqu'un expérimentateur peut réaliser plusieurs fois un mesurage, il utilise des notions de statistiques pour déterminer la valeur du résultat&nbsp;:\n",
        ">- *La **valeur estimée** est assimilée à la valeur moyenne de la série de mesures*&nbsp;;\n",
        ">- *L'**incertitude** est calculée en utilisant l'écart-type de la série de mesures.*\n",
        "\n",
        "## Situation expérimentale\n",
        "\n",
        "La mesure $\\Delta t$ de la durée de chute d'un objet depuis une fenêtre a\n",
        "été répétée 16 fois avec un chronomètre de qualité. Les résultats\n",
        "obtenus, exprimés en seconde, sont les suivants&nbsp;:\n",
        "<center>\n",
        "\n",
        "|  |  |  |  |  |  |  |  |\n",
        "|:-:|:-:|:-:|:-:|:-:|:-:|:-:|:-:|\n",
        "| 1,38 | 1,45 | 1,41 | 1,45 | 1,43 | 1,41 | 1,46 | 1,39 |\n",
        "|  |  |  |  |  |  |  |  |\n",
        "| 1,43 | 1,48 | 1,38 | 1,44 | 1,40 | 1,42 | 1,39 | 1,44 |\n",
        "\n",
        "</center>\n",
        "\n",
        "## Travail à réaliser"
      ],
      "metadata": {
        "id": "00d_6PvrjT7n"
      }
    },
    {
      "cell_type": "markdown",
      "source": [
        "1. Compléter le code ci-dessous de façon à ce que la variable `valeurs` référence une liste contenant les valeurs mesurées.\n",
        "\n",
        "> **Point Python**   \n",
        "> Une liste est une **structure de données indicées** &nbsp;: on *accède/manipule\n",
        "les éléments d'une liste à partir de leur position dans la liste (la\n",
        "première position a 0 pour indice)* . Il est possible de ne prendre en compte\n",
        "qu'un nombre restreint d'éléments dans une liste (*Attention&nbsp;:* en Python les\n",
        "intervalles sont toujours du type $[a, b [$ c'est à dire fermé pour la borne\n",
        "inférieure, ouvert pour la borne supérieure)&nbsp;:\n",
        ">```python\n",
        ">>> liste = [1, 2, 3, 4]\n",
        ">>> liste[0]  # Premier élément\n",
        ">>> liste[len(liste) - 1]  # Dernier élément (len donne le nombre d'éléments)\n",
        ">>> liste[:3]  # Trois premiers éléments (d'indices 0, 1 et 2) [1, 2, 3]\n",
        "```"
      ],
      "metadata": {
        "id": "Dnmse1-gkaPq"
      }
    },
    {
      "cell_type": "code",
      "source": [
        "valeurs = [...]"
      ],
      "metadata": {
        "id": "C_LoyJ1Qj0Lo"
      },
      "execution_count": null,
      "outputs": []
    },
    {
      "cell_type": "markdown",
      "source": [
        "### La valeur moyenne d’une série de mesures est une grandeur aléatoire\n",
        "\n",
        "2. Compléter le code ci-dessous de telle sorte qu'il calcule la moyenne de toutes valeurs mesurées.\n",
        "\n",
        ">**Point Python**  \n",
        ">L'instruction\n",
        ">```python\n",
        "for elt in une_liste:\n",
        "```\n",
        ">doit être lue de la façon suivante&nbsp;: «&nbsp;*Pour chaque élément `elt` de la liste\n",
        "`une_liste` faire ...*&nbsp;»."
      ],
      "metadata": {
        "id": "hHL1izOOlFSw"
      }
    },
    {
      "cell_type": "code",
      "source": [
        "somme_valeurs = 0\n",
        "for valeur in valeurs:\n",
        "    somme_valeurs = ...... + ......\n",
        "    nbre_valeurs = len(valeurs)\n",
        "    moyenne = ..... / .....\n",
        "print(\"La valeur de la moyenne de toutes les valeurs mesurées est : {} s\".format(moyenne))"
      ],
      "metadata": {
        "id": "M9UI0NrmlDc3"
      },
      "execution_count": null,
      "outputs": []
    },
    {
      "cell_type": "markdown",
      "source": [
        "3. Le code ci-dessous calcule la moyenne des 6 premières valeurs mesurées. Exécuter ce code. La valeur de la moyenne est-elle égale à celle calculée au point précédent ? Pourquoi ?\n",
        "\n"
      ],
      "metadata": {
        "id": "PRJaklD2mp5n"
      }
    },
    {
      "cell_type": "code",
      "source": [
        "somme_valeurs = 0\n",
        "for valeur in valeurs[0:6]:\n",
        "    somme_valeurs = ..... + .....\n",
        "    nbre_valeurs = .....\n",
        "    moyenne_inc = ...... / .....\n",
        "print(\"La valeur de la moyenne des 6 premières valeurs mesurées est : {} s\".format(moyenne_inc))"
      ],
      "metadata": {
        "id": "VQLo8KMZmZ2s"
      },
      "execution_count": null,
      "outputs": []
    },
    {
      "cell_type": "markdown",
      "source": [
        "4. Comment faire en sorte que la valeur moyenne caractérise au mieux «&nbsp;la chute de l'objet depuis la fenêtre&nbsp;»&nbsp;?"
      ],
      "metadata": {
        "id": "QhspC3GBnzNy"
      }
    },
    {
      "cell_type": "markdown",
      "source": [
        "### Incertitude de répétabilité\n",
        "\n",
        "L'incertitude de mesure correspondant à des mesures répétées d'une même\n",
        "grandeur est appelée **incertitude de répétabilité** . Elle est liée à\n",
        "l'**écart-type** de la série de mesures.\n",
        "\n",
        ">- Pour une série de $n$ *mesures indépendantes* donnant des valeurs\n",
        "  mesurées $m\\_{k}$ l'écart-type de la série de mesures est donné par la formule&nbsp;:\n",
        "$$ \\sigma _{n - 1} = \\sqrt{\\dfrac{\\sum_{k = 1}^n (m_{k} -\n",
        "   \\overline{m})^2}{n - 1}} $$\n",
        "où $\\overline{m}$ est la valeur moyenne de la série de mesures.  \n",
        "\n",
        "L'écart type peut être calculé en utilisant les fonctions statistiques d'une calculatrice, d'un tableur ou d'un programme écrit en Python.\n",
        "\n",
        ">- L'**incertitude de répétabilité**  associée à la mesure se calcule alors grâce à la formule&nbsp;:\n",
        "$$ U (m) = k \\hspace{0.17em} \\dfrac{\\sigma _{n - 1}}{\\sqrt{n}} $$\n",
        "Elle dépend du nombre $n$ de mesures indépendantes réalisées, de l'écart type de la série de mesures et d'un coefficient $k$ appelé **facteur d'élargissement**  (ou coefficient de Student).\n",
        "\n",
        ">- Le **facteur d'élargissement** $k$ dépend du *nombre de mesures réalisées*  $n$ et du *niveau de confiance* choisi.\n",
        "\n",
        "#### Exemple de valeurs de $k$&nbsp;:\n",
        "\n",
        "| n | 2 | 3 | 4 | 5 | 6 | 7 | 8 | 9 | 10 | 11 | 12 | 13 | 14 | 15 | 16 |\n",
        "|:-:|:-:|:-:|:-:|:-:|:-:|:-:|:-:|:-:|:-:|:-:|:-:|:-:|:-:|:-:|:-:|\n",
        "| $k$ 95%| 12,7 | 4,30 | 3,18 | 2,78 | 2,57 | 2,45 | 2,37 | 2,31 | 2,26 | 2,23 | 2,20 | 2,18 | 2,16 | 2,15 | 2,13 |\n",
        "| $k$ 99% | 63,7 | 9,93 | 5,84 | 4,60 | 4,03 | 3,71 | 3,50 | 3,36 | 3,25 | 3,17 | 3,11 | 3,06 | 3,01 | 2,98 | 2,95 |"
      ],
      "metadata": {
        "id": "hYYLvpCbn6kS"
      }
    },
    {
      "cell_type": "markdown",
      "source": [
        "5. Pour un *même nombre de mesures*, comment évolue $k$ avec le niveau de confiance&nbsp;? Qu'est-ce que cette évolution traduit&nbsp;?"
      ],
      "metadata": {
        "id": "9rHxp1j3ouuB"
      }
    },
    {
      "cell_type": "markdown",
      "source": [
        "6. Pour un *même niveau de confiance* , comment évolue $k$ avec le nombre de\n",
        "mesures réalisées&nbsp;? Qu'est-ce que cette évolution traduit&nbsp;?"
      ],
      "metadata": {
        "id": "02L91oufo0Bm"
      }
    },
    {
      "cell_type": "markdown",
      "source": [
        "7. Compléter le code ci-dessous de telle sorte qu'il calcule l'écart type de la série de valeurs mesurées.\n",
        "\n",
        ">**Point Python**  \n",
        ">L'élévation à la puissance s'effectue à l'aide de l'opérateur `**`."
      ],
      "metadata": {
        "id": "pTMOkbjEpG_0"
      }
    },
    {
      "cell_type": "code",
      "source": [
        "somme_valeurs = 0\n",
        "for valeur in valeurs:\n",
        "    nbre_valeurs = .....\n",
        "    somme_valeurs = ..... + (..... - .....)**2\n",
        "    ecart_type = sqrt(..... / (..... -1))\n",
        "print(\"La valeur de l'écart-type de la série de mesures est : {} s\".format(ecart_type))"
      ],
      "metadata": {
        "id": "_z5yOteVn2x_"
      },
      "execution_count": null,
      "outputs": []
    },
    {
      "cell_type": "markdown",
      "source": [
        "8. Compléter le code ci-dessous de telle sorte qu'il calcule la valeur de l'incertitude avec un niveau de confiance à 95 % "
      ],
      "metadata": {
        "id": "bqjdgZaiq4za"
      }
    },
    {
      "cell_type": "code",
      "source": [
        "k = 2.13\n",
        "incertitude = ..... * ..... / .....\n",
        "print(\"La valeur de l'incertitude de la série de mesures est : {} s\".format(incertitude))"
      ],
      "metadata": {
        "id": "Zu70oOLBqO0j"
      },
      "execution_count": null,
      "outputs": []
    },
    {
      "cell_type": "markdown",
      "source": [
        "9. Écrire la valeur de la durée de la chute lors de l'expérience avec un niveau de confiance de 99%."
      ],
      "metadata": {
        "id": "zLI0E1I4sgmH"
      }
    },
    {
      "cell_type": "markdown",
      "source": [
        "10. Reprendre le code de la question 8 dans la cellule ci-dessous et l'adapter de telle sorte qu'il calcule l'incertitude avec un niveau de confiance de 99%."
      ],
      "metadata": {
        "id": "tgreAIshsull"
      }
    },
    {
      "cell_type": "code",
      "source": [],
      "metadata": {
        "id": "lHZjoUZMsPNq"
      },
      "execution_count": null,
      "outputs": []
    }
  ]
}
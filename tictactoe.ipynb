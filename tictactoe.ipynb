{
  "nbformat": 4,
  "nbformat_minor": 0,
  "metadata": {
    "colab": {
      "provenance": [],
      "collapsed_sections": [],
      "include_colab_link": true
    },
    "kernelspec": {
      "name": "python3",
      "display_name": "Python 3"
    },
    "language_info": {
      "name": "python"
    }
  },
  "cells": [
    {
      "cell_type": "markdown",
      "metadata": {
        "id": "view-in-github",
        "colab_type": "text"
      },
      "source": [
        "<a href=\"https://colab.research.google.com/github/adam-the-hacker/school/blob/main/tictactoe.ipynb\" target=\"_parent\"><img src=\"https://colab.research.google.com/assets/colab-badge.svg\" alt=\"Open In Colab\"/></a>"
      ]
    },
    {
      "cell_type": "code",
      "source": [
        "import random\n",
        "print(\"#####     TIC TAC TOE     #####\")\n",
        "joueur = 1\n",
        "IA = 0\n",
        "matrice = [[0for i in range(3)]for j in range(3)]\n",
        "\n",
        "if input(\"Voulez vous jouer contre une IA ? Y or N\") == \"Y\":\n",
        "  IA == joueur"
      ],
      "metadata": {
        "id": "C89nLw4afMTV",
        "colab": {
          "base_uri": "https://localhost:8080/"
        },
        "outputId": "2ae41bb2-2137-4a99-9da2-0300da392b0b"
      },
      "execution_count": 2,
      "outputs": [
        {
          "name": "stdout",
          "output_type": "stream",
          "text": [
            "#####     TIC TAC TOE     #####\n",
            "Voulez vous jouer contre une IA ? Y or Nn\n"
          ]
        }
      ]
    },
    {
      "cell_type": "code",
      "source": [
        "def affichage():\n",
        "    for ligne in matrice:\n",
        "        a = 0\n",
        "        for n in ligne:\n",
        "          \n",
        "            if n==0:\n",
        "                print('0', end='\\t')\n",
        "                a += 1\n",
        "                if a != 3: print(\"|\", end='\\t')\n",
        "              \n",
        "              \n",
        "            if n==-1: \n",
        "                print('O', end='\\t')\n",
        "                a += 1\n",
        "                if a != 3: print(\"|\", end='\\t')\n",
        "              \n",
        "              \n",
        "            if n==1: \n",
        "                print('X', end='\\t')\n",
        "                a += 1\n",
        "                if a != 3: print(\"|\", end='\\t')\n",
        "                \n",
        "          \n",
        "        print()\n",
        "affichage()"
      ],
      "metadata": {
        "id": "26vIe8j-eqhg",
        "colab": {
          "base_uri": "https://localhost:8080/"
        },
        "outputId": "0a6af610-04b1-4771-a401-dd92a89712f1"
      },
      "execution_count": 5,
      "outputs": [
        {
          "output_type": "stream",
          "name": "stdout",
          "text": [
            "0\t|\t0\t|\t0\t\n",
            "0\t|\t0\t|\t0\t\n",
            "0\t|\t0\t|\t0\t\n"
          ]
        }
      ]
    },
    {
      "cell_type": "code",
      "source": [
        "def saisie():\n",
        "  global joueur #while true, gagner en simplicite, gerer la saisie de test\n",
        "\n",
        "  coup = int(input(\"Saisissez le nombre représentatif de votre case choisie\\n0/1/2\\n3/4/5\\n6/7/8\\n: \"))\n",
        "  \n",
        "  while coup < 0 or coup > 8 or matrice[coup//3][coup%3]!=0:\n",
        "    print('Indice de case invalide ou case déjà prise.', end=' ')\n",
        "    coup = int(input(\"Saisissez un nouveau nombre représentatif de votre case choisie\\n0/1/2\\n3/4/5\\n6/7/8\\n: \"))\n",
        "  \n",
        "  return coup\n",
        "\n",
        "  "
      ],
      "metadata": {
        "id": "z5aerJt-esHu"
      },
      "execution_count": null,
      "outputs": []
    },
    {
      "cell_type": "code",
      "source": [
        "def victoire():\n",
        "   \n",
        "    if matrice[0][0]+matrice[0][1]+matrice[0][2] in [-3,3]:\n",
        "        return matrice[0][0]\n",
        "    if matrice[1][0]+matrice[1][1]+matrice[1][2] in [-3,3]:\n",
        "        return matrice[0][0]\n",
        "    if matrice[0][0]+matrice[0][1]+matrice[0][2] in [-3,3]:\n",
        "        return matrice[0][0]\n",
        "    if matrice[0][0]+matrice[0][1]+matrice[0][2] in [-3,3]:\n",
        "        return matrice[0][0]\n",
        "    if matrice[0][0]+matrice[0][1]+matrice[0][2] in [-3,3]:\n",
        "        return matrice[0][0]\n",
        "    if matrice[0][0]+matrice[0][1]+matrice[0][2] in [-3,3]:\n",
        "        return matrice[0][0]\n",
        "    if matrice[0][0]+matrice[0][1]+matrice[0][2] in [-3,3]:\n",
        "        return matrice[0][0]\n",
        "    if matrice[0][0]+matrice[0][1]+matrice[0][2] in [-3,3]:\n",
        "        return matrice[0][0]\n",
        "            matrice[coup//3][coup%3]-joueur\n",
        "    if victoire()==2:\n",
        "                    print(\"match nul\")"
      ],
      "metadata": {
        "id": "7Qw0M95CesVg"
      },
      "execution_count": null,
      "outputs": []
    },
    {
      "cell_type": "code",
      "source": [
        "#code synthétique:\n",
        "while True:\n",
        "    affichage()\n",
        "    coup=saisie()\n",
        "    if victoire !=0:\n",
        "        if victoire==2: print('Match nul')\n",
        "        if victoire==1 or victoire==-1: print('Bravo jspqui')"
      ],
      "metadata": {
        "id": "YmkCgpLWgig_"
      },
      "execution_count": null,
      "outputs": []
    },
    {
      "cell_type": "code",
      "source": [
        "def ia_joue():\n",
        "  coup_ia = random.randint(0,8)\n",
        "  while coup_ia < 0 or coup_ia > 8 or matrice[coup_ia//3][coup_ia%3]!=0:\n",
        "    coup_ia = random.randint(0,8)\n",
        "  return coup_ia"
      ],
      "metadata": {
        "id": "FI10CQF2UPgI"
      },
      "execution_count": null,
      "outputs": []
    },
    {
      "cell_type": "code",
      "source": [
        "# Code principal\n",
        "\n",
        "while True:\n",
        "  \n",
        "    affichage()\n",
        "\n",
        "\n",
        "    if IA == 1:\n",
        "        coup=ia_joue()\n",
        "    else:\n",
        "        coup=saisie()\n",
        "\n",
        "\n",
        "    matrice[coup//3][coup%3]=joueur\n",
        "\n",
        "\n",
        "    if victoire() != 0:\n",
        "      if victoire == 2: print('Match nul')\n",
        "      if victoire == 1:\n",
        "        print ('partie finie joueur 1 a gagné')\n",
        "      else:\n",
        "        print ('partie finie joueur 1 a gagné')\n",
        "\n",
        "\n",
        "    joueur=-joueur"
      ],
      "metadata": {
        "id": "-bmQhfEGl9fm"
      },
      "execution_count": null,
      "outputs": []
    }
  ]
}